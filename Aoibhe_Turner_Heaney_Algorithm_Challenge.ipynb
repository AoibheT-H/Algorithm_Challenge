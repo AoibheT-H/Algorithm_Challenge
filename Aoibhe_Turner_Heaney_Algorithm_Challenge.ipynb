{
 "cells": [
  {
   "cell_type": "markdown",
   "id": "38361d04",
   "metadata": {},
   "source": [
    "## Import packages and sensor data"
   ]
  },
  {
   "cell_type": "code",
   "execution_count": 1,
   "id": "7adc7a5f",
   "metadata": {},
   "outputs": [],
   "source": [
    "# import packages\n",
    "import pandas as pd\n",
    "import matplotlib.pyplot as plt\n",
    "import numpy as np\n",
    "from scipy import signal\n",
    "from scipy.fft import fft, ifft\n",
    "\n",
    "# load and label the data\n",
    "signals = pd.read_csv ('signals.csv', names=['Channel_1', 'Channel_2'])\n",
    "signal_ch1 = signals['Channel_1'].values.tolist()\n",
    "signal_ch2 = signals['Channel_2'].values.tolist()"
   ]
  },
  {
   "cell_type": "markdown",
   "id": "7591dffb",
   "metadata": {},
   "source": [
    "## Plot the sensor data in the time and frequency domain"
   ]
  },
  {
   "cell_type": "code",
   "execution_count": 2,
   "id": "e37759c8",
   "metadata": {},
   "outputs": [
    {
     "ename": "KeyError",
     "evalue": "0",
     "output_type": "error",
     "traceback": [
      "\u001b[1;31m---------------------------------------------------------------------------\u001b[0m",
      "\u001b[1;31mKeyError\u001b[0m                                  Traceback (most recent call last)",
      "\u001b[1;32m~\\Anaconda3\\lib\\site-packages\\pandas\\core\\indexes\\base.py\u001b[0m in \u001b[0;36mget_loc\u001b[1;34m(self, key, method, tolerance)\u001b[0m\n\u001b[0;32m   3628\u001b[0m             \u001b[1;32mtry\u001b[0m\u001b[1;33m:\u001b[0m\u001b[1;33m\u001b[0m\u001b[1;33m\u001b[0m\u001b[0m\n\u001b[1;32m-> 3629\u001b[1;33m                 \u001b[1;32mreturn\u001b[0m \u001b[0mself\u001b[0m\u001b[1;33m.\u001b[0m\u001b[0m_engine\u001b[0m\u001b[1;33m.\u001b[0m\u001b[0mget_loc\u001b[0m\u001b[1;33m(\u001b[0m\u001b[0mcasted_key\u001b[0m\u001b[1;33m)\u001b[0m\u001b[1;33m\u001b[0m\u001b[1;33m\u001b[0m\u001b[0m\n\u001b[0m\u001b[0;32m   3630\u001b[0m             \u001b[1;32mexcept\u001b[0m \u001b[0mKeyError\u001b[0m \u001b[1;32mas\u001b[0m \u001b[0merr\u001b[0m\u001b[1;33m:\u001b[0m\u001b[1;33m\u001b[0m\u001b[1;33m\u001b[0m\u001b[0m\n",
      "\u001b[1;32m~\\Anaconda3\\lib\\site-packages\\pandas\\_libs\\index.pyx\u001b[0m in \u001b[0;36mpandas._libs.index.IndexEngine.get_loc\u001b[1;34m()\u001b[0m\n",
      "\u001b[1;32m~\\Anaconda3\\lib\\site-packages\\pandas\\_libs\\index.pyx\u001b[0m in \u001b[0;36mpandas._libs.index.IndexEngine.get_loc\u001b[1;34m()\u001b[0m\n",
      "\u001b[1;32mpandas\\_libs\\hashtable_class_helper.pxi\u001b[0m in \u001b[0;36mpandas._libs.hashtable.PyObjectHashTable.get_item\u001b[1;34m()\u001b[0m\n",
      "\u001b[1;32mpandas\\_libs\\hashtable_class_helper.pxi\u001b[0m in \u001b[0;36mpandas._libs.hashtable.PyObjectHashTable.get_item\u001b[1;34m()\u001b[0m\n",
      "\u001b[1;31mKeyError\u001b[0m: 0",
      "\nThe above exception was the direct cause of the following exception:\n",
      "\u001b[1;31mKeyError\u001b[0m                                  Traceback (most recent call last)",
      "\u001b[1;32m~\\AppData\\Local\\Temp\\ipykernel_20780\\154539789.py\u001b[0m in \u001b[0;36m<module>\u001b[1;34m\u001b[0m\n\u001b[0;32m      2\u001b[0m \u001b[1;33m\u001b[0m\u001b[0m\n\u001b[0;32m      3\u001b[0m \u001b[1;31m# adjusting the x-axis to reflect time in seconds\u001b[0m\u001b[1;33m\u001b[0m\u001b[1;33m\u001b[0m\u001b[0m\n\u001b[1;32m----> 4\u001b[1;33m \u001b[0mduration\u001b[0m \u001b[1;33m=\u001b[0m \u001b[0mlen\u001b[0m\u001b[1;33m(\u001b[0m\u001b[0msignals\u001b[0m\u001b[1;33m[\u001b[0m\u001b[1;36m0\u001b[0m\u001b[1;33m]\u001b[0m\u001b[1;33m)\u001b[0m\u001b[1;33m/\u001b[0m\u001b[0mfs\u001b[0m\u001b[1;33m\u001b[0m\u001b[1;33m\u001b[0m\u001b[0m\n\u001b[0m\u001b[0;32m      5\u001b[0m \u001b[0mtime_axis\u001b[0m \u001b[1;33m=\u001b[0m \u001b[0mnp\u001b[0m\u001b[1;33m.\u001b[0m\u001b[0mlinspace\u001b[0m\u001b[1;33m(\u001b[0m\u001b[1;36m0\u001b[0m\u001b[1;33m,\u001b[0m \u001b[0mduration\u001b[0m\u001b[1;33m,\u001b[0m \u001b[0mlen\u001b[0m\u001b[1;33m(\u001b[0m\u001b[0msignals\u001b[0m\u001b[1;33m[\u001b[0m\u001b[1;36m0\u001b[0m\u001b[1;33m]\u001b[0m\u001b[1;33m)\u001b[0m\u001b[1;33m)\u001b[0m\u001b[1;33m\u001b[0m\u001b[1;33m\u001b[0m\u001b[0m\n\u001b[0;32m      6\u001b[0m \u001b[1;33m\u001b[0m\u001b[0m\n",
      "\u001b[1;32m~\\Anaconda3\\lib\\site-packages\\pandas\\core\\frame.py\u001b[0m in \u001b[0;36m__getitem__\u001b[1;34m(self, key)\u001b[0m\n\u001b[0;32m   3503\u001b[0m             \u001b[1;32mif\u001b[0m \u001b[0mself\u001b[0m\u001b[1;33m.\u001b[0m\u001b[0mcolumns\u001b[0m\u001b[1;33m.\u001b[0m\u001b[0mnlevels\u001b[0m \u001b[1;33m>\u001b[0m \u001b[1;36m1\u001b[0m\u001b[1;33m:\u001b[0m\u001b[1;33m\u001b[0m\u001b[1;33m\u001b[0m\u001b[0m\n\u001b[0;32m   3504\u001b[0m                 \u001b[1;32mreturn\u001b[0m \u001b[0mself\u001b[0m\u001b[1;33m.\u001b[0m\u001b[0m_getitem_multilevel\u001b[0m\u001b[1;33m(\u001b[0m\u001b[0mkey\u001b[0m\u001b[1;33m)\u001b[0m\u001b[1;33m\u001b[0m\u001b[1;33m\u001b[0m\u001b[0m\n\u001b[1;32m-> 3505\u001b[1;33m             \u001b[0mindexer\u001b[0m \u001b[1;33m=\u001b[0m \u001b[0mself\u001b[0m\u001b[1;33m.\u001b[0m\u001b[0mcolumns\u001b[0m\u001b[1;33m.\u001b[0m\u001b[0mget_loc\u001b[0m\u001b[1;33m(\u001b[0m\u001b[0mkey\u001b[0m\u001b[1;33m)\u001b[0m\u001b[1;33m\u001b[0m\u001b[1;33m\u001b[0m\u001b[0m\n\u001b[0m\u001b[0;32m   3506\u001b[0m             \u001b[1;32mif\u001b[0m \u001b[0mis_integer\u001b[0m\u001b[1;33m(\u001b[0m\u001b[0mindexer\u001b[0m\u001b[1;33m)\u001b[0m\u001b[1;33m:\u001b[0m\u001b[1;33m\u001b[0m\u001b[1;33m\u001b[0m\u001b[0m\n\u001b[0;32m   3507\u001b[0m                 \u001b[0mindexer\u001b[0m \u001b[1;33m=\u001b[0m \u001b[1;33m[\u001b[0m\u001b[0mindexer\u001b[0m\u001b[1;33m]\u001b[0m\u001b[1;33m\u001b[0m\u001b[1;33m\u001b[0m\u001b[0m\n",
      "\u001b[1;32m~\\Anaconda3\\lib\\site-packages\\pandas\\core\\indexes\\base.py\u001b[0m in \u001b[0;36mget_loc\u001b[1;34m(self, key, method, tolerance)\u001b[0m\n\u001b[0;32m   3629\u001b[0m                 \u001b[1;32mreturn\u001b[0m \u001b[0mself\u001b[0m\u001b[1;33m.\u001b[0m\u001b[0m_engine\u001b[0m\u001b[1;33m.\u001b[0m\u001b[0mget_loc\u001b[0m\u001b[1;33m(\u001b[0m\u001b[0mcasted_key\u001b[0m\u001b[1;33m)\u001b[0m\u001b[1;33m\u001b[0m\u001b[1;33m\u001b[0m\u001b[0m\n\u001b[0;32m   3630\u001b[0m             \u001b[1;32mexcept\u001b[0m \u001b[0mKeyError\u001b[0m \u001b[1;32mas\u001b[0m \u001b[0merr\u001b[0m\u001b[1;33m:\u001b[0m\u001b[1;33m\u001b[0m\u001b[1;33m\u001b[0m\u001b[0m\n\u001b[1;32m-> 3631\u001b[1;33m                 \u001b[1;32mraise\u001b[0m \u001b[0mKeyError\u001b[0m\u001b[1;33m(\u001b[0m\u001b[0mkey\u001b[0m\u001b[1;33m)\u001b[0m \u001b[1;32mfrom\u001b[0m \u001b[0merr\u001b[0m\u001b[1;33m\u001b[0m\u001b[1;33m\u001b[0m\u001b[0m\n\u001b[0m\u001b[0;32m   3632\u001b[0m             \u001b[1;32mexcept\u001b[0m \u001b[0mTypeError\u001b[0m\u001b[1;33m:\u001b[0m\u001b[1;33m\u001b[0m\u001b[1;33m\u001b[0m\u001b[0m\n\u001b[0;32m   3633\u001b[0m                 \u001b[1;31m# If we have a listlike key, _check_indexing_error will raise\u001b[0m\u001b[1;33m\u001b[0m\u001b[1;33m\u001b[0m\u001b[0m\n",
      "\u001b[1;31mKeyError\u001b[0m: 0"
     ]
    }
   ],
   "source": [
    "fs = 16 # sampling frequency of 16 Hz\n",
    "\n",
    "# adjusting the x-axis to reflect time in seconds\n",
    "duration = len(signals[0])/fs\n",
    "time_axis = np.linspace(0, duration, len(signals[0]))\n",
    "\n",
    "# obtaining the FFT of the signals\n",
    "fft_ch_1 = fft(signal_ch1)\n",
    "fft_ch_2 = fft(signal_ch2)\n",
    "frequency_axis = np.linspace(0.0, len(signals[0])/fs*1000, len(signals[0]), endpoint=False) # adjusting to kHz\n",
    "\n",
    "# plotting the sensor data\n",
    "plt.figure(figsize=(18,6))\n",
    "plt.subplot(1, 2, 1)\n",
    "plt.plot(time_axis, signals[0])\n",
    "plt.plot(time_axis, signals[1])\n",
    "plt.title('Radio Frequency Sensor data in the time domain')\n",
    "plt.legend(['Channel_1', 'Channel_2'])\n",
    "plt.xlabel(\"Time (s)\")\n",
    "plt.ylabel(\"Amplitude\")\n",
    "plt.xlim([0, time_axis[-1]])\n",
    "\n",
    "\n",
    "plt.subplot(1, 2, 2)\n",
    "plt.plot(frequency_axis, fft_ch_1)\n",
    "plt.plot(frequency_axis, fft_ch_2)\n",
    "plt.title('Radio Frequency Sensor data in the Frequency Domain')\n",
    "plt.legend(['Channel_1', 'Channel_2'])\n",
    "plt.xlabel(\"Frequency (kHz)\")\n",
    "plt.ylabel(\"Amplitude\")\n",
    "plt.xlim([0, frequency_axis[-1]])\n",
    "plt.show()"
   ]
  },
  {
   "cell_type": "markdown",
   "id": "0149875b",
   "metadata": {},
   "source": [
    "As shown in the figure above, neither signal is centered around the centre line - to adjust for this and to aid future analysis - a running average filter will remove this slopped artefact. A moving average filter is necessary for this as the average of both signals increases/ decreases as time goes on and therefore a single average will not work to remove these slopes. "
   ]
  },
  {
   "cell_type": "markdown",
   "id": "9c5b88bc",
   "metadata": {},
   "source": [
    "## Create a moving average filter with a specified window length"
   ]
  },
  {
   "cell_type": "code",
   "execution_count": null,
   "id": "79c2a633",
   "metadata": {},
   "outputs": [],
   "source": [
    "def signals_avg_filt(data, window):\n",
    "    N = len(data)\n",
    "    avg_filt = []\n",
    "    \n",
    "    for i in range(0, N, window):\n",
    "        segment_avg = np.mean(data[i:i+window])\n",
    "        \n",
    "        avg_filt.extend(segment_avg*np.ones(window))\n",
    "    print(type(data))\n",
    "    print(type(avg_filt))\n",
    "    data_avg_filtered = data - avg_filt\n",
    "    \n",
    "    return data_avg_filtered"
   ]
  },
  {
   "cell_type": "markdown",
   "id": "97c0494a",
   "metadata": {},
   "source": [
    "## Apply filter above to signals"
   ]
  },
  {
   "cell_type": "code",
   "execution_count": null,
   "id": "bbb37039",
   "metadata": {},
   "outputs": [],
   "source": [
    "window = 10\n",
    "avg_sig_1 =  signals_avg_filt(signals['Channel_1'], window)\n",
    "avg_sig_2 =  signals_avg_filt(signals['Channel_2'], window)\n",
    "\n",
    "# plotting the average signal data\n",
    "plt.figure(figsize=(10,6))\n",
    "plt.plot(time_axis, avg_sig_2)\n",
    "plt.plot(time_axis, avg_sig_1)\n",
    "plt.title('Filtered Radio Frequency Sensor data using average window filtering, window = '+str(window)+' samples')\n",
    "plt.legend(['Channel_1', 'Channel_2'])\n",
    "plt.xlabel(\"Time (s)\")\n",
    "plt.ylabel(\"Amplitude\")\n",
    "plt.show()"
   ]
  },
  {
   "cell_type": "markdown",
   "id": "a57d998d",
   "metadata": {},
   "source": [
    "Now that the signals are centered at the center line, further analysis will be easier."
   ]
  },
  {
   "cell_type": "markdown",
   "id": "b29b7210",
   "metadata": {},
   "source": [
    "# Plot the filtered sensor data in the frequency domain"
   ]
  },
  {
   "cell_type": "code",
   "execution_count": null,
   "id": "9a336572",
   "metadata": {},
   "outputs": [],
   "source": [
    "type(avg_sig_1)"
   ]
  },
  {
   "cell_type": "code",
   "execution_count": null,
   "id": "fdc8d6a9",
   "metadata": {},
   "outputs": [],
   "source": [
    "# plotting the sensor data\n",
    "plt.figure(figsize=(18,6))\n",
    "plt.subplot(1, 2, 1)\n",
    "plt.plot(time_axis, avg_sig_1)\n",
    "plt.plot(time_axis, avg_sig_2)\n",
    "plt.title('Filtered Radio Frequency Sensor data in time domain using average window filtering, window = '+str(window)+' samples')\n",
    "plt.legend(['Channel_1', 'Channel_2'])\n",
    "plt.xlabel(\"Time (s)\")\n",
    "plt.ylabel(\"Amplitude\")\n",
    "plt.xlim([0, time_axis[-1]])\n",
    "\n",
    "plt.subplot(1, 2, 2)\n",
    "plt.plot(frequency_axis, fft_signals)\n",
    "plt.title('Filtered Radio Frequency Sensor data in F=frequency domain using average window filtering, window = '+str(window)+' samples')\n",
    "plt.legend(['Channel_1', 'Channel_2'])\n",
    "plt.xlabel(\"Time (s)\")\n",
    "plt.ylabel(\"Amplitude\")\n",
    "plt.xlim([0, frequency_axis[-1]])\n",
    "plt.show()"
   ]
  },
  {
   "cell_type": "code",
   "execution_count": null,
   "id": "37bfcb72",
   "metadata": {},
   "outputs": [],
   "source": []
  }
 ],
 "metadata": {
  "kernelspec": {
   "display_name": "Python 3 (ipykernel)",
   "language": "python",
   "name": "python3"
  },
  "language_info": {
   "codemirror_mode": {
    "name": "ipython",
    "version": 3
   },
   "file_extension": ".py",
   "mimetype": "text/x-python",
   "name": "python",
   "nbconvert_exporter": "python",
   "pygments_lexer": "ipython3",
   "version": "3.9.13"
  }
 },
 "nbformat": 4,
 "nbformat_minor": 5
}
